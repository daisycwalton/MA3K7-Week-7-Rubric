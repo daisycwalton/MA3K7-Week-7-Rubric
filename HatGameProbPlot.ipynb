{
 "cells": [
  {
   "cell_type": "code",
   "execution_count": 1,
   "id": "3b806812-e0d2-4ef1-b09b-185774735359",
   "metadata": {},
   "outputs": [],
   "source": [
    "import numpy as np\n",
    "import random\n",
    "from random import sample\n",
    "import matplotlib.pyplot as plt"
   ]
  },
  {
   "cell_type": "code",
   "execution_count": 5,
   "id": "70052a81-af67-4597-afdb-c2e95f819c8f",
   "metadata": {},
   "outputs": [
    {
     "name": "stdout",
     "output_type": "stream",
     "text": [
      "n=2: X_2 = [1]\n",
      "n=3: X_3 = [0 2]\n",
      "n=4: X_4 = [0 2 4]\n",
      "n=5: X_5 = [1 3 5]\n",
      "n=6: X_6 = [1 3 5]\n",
      "n=7: X_7 = [0 2 4 6]\n",
      "n=8: X_8 = [0 2 4 6 8]\n",
      "n=9: X_9 = [1 3 5 7 9]\n",
      "n=10: X_10 = [1 3 5 7 9]\n",
      "n=11: X_11 = [ 0  2  4  6  8 10]\n",
      "n=12: X_12 = [ 0  2  4  6  8 10 12]\n",
      "n=13: X_13 = [ 1  3  5  7  9 11 13]\n",
      "n=14: X_14 = [ 1  3  5  7  9 11 13]\n",
      "n=15: X_15 = [ 0  2  4  6  8 10 12 14]\n",
      "n=16: X_16 = [ 0  2  4  6  8 10 12 14 16]\n",
      "n=17: X_17 = [ 1  3  5  7  9 11 13 15 17]\n",
      "n=18: X_18 = [ 1  3  5  7  9 11 13 15 17]\n",
      "n=19: X_19 = [ 0  2  4  6  8 10 12 14 16 18]\n",
      "n=20: X_20 = [ 0  2  4  6  8 10 12 14 16 18 20]\n"
     ]
    }
   ],
   "source": [
    "# Returns the final piece of paper when a random game with N pieces of paper is played\n",
    "def final_paper(N):\n",
    "    \n",
    "    hat = np.arange(1, N+1)\n",
    "    diffs = np.zeros(N-1, dtype=int)\n",
    "    pick = np.zeros((N-1, 2), dtype=int)\n",
    "    \n",
    "    for i in range(N-1):\n",
    "        pick[i] = np.random.choice(hat, 2, replace=False)\n",
    "\n",
    "        if pick[i][0] > pick[i][1]:\n",
    "            diffs[i] = pick[i][0] - pick[i][1]\n",
    "        else:\n",
    "            diffs[i] = pick[i][1] - pick[i][0]\n",
    "\n",
    "        ind0 = np.argwhere(hat==pick[i][0])\n",
    "        ind1 = np.argwhere(hat==pick[i][1])\n",
    "\n",
    "        if len(ind0) > 1:\n",
    "            ind0 = ind0[0]\n",
    "\n",
    "        if len(ind1) > 1:\n",
    "            ind1 = ind1[1]\n",
    "\n",
    "        ind = np.column_stack((ind0, ind1))\n",
    "\n",
    "        hat = np.delete(hat, ind)\n",
    "        hat = np.append(hat, diffs[i])\n",
    "\n",
    "    return hat[0]\n",
    "\n",
    "\n",
    "# Returns an array of possible X_N and an array of their frequencies over 10000 games\n",
    "def counts(N):\n",
    "    results = np.zeros(iters, dtype=int)\n",
    "\n",
    "    for m in range(iters):\n",
    "        results[m] = final_paper(N)\n",
    "\n",
    "    counts = np.unique(results, return_counts = True)\n",
    "    \n",
    "    return counts[0], counts[1]\n",
    "    \n",
    "\n",
    "# Prints the possible X_N for games N=1 to N=N\n",
    "def print_papers(N):\n",
    "    for n in range(2, N+1):\n",
    "        papers, _ = counts(n)\n",
    "        print(f\"n={n}: X_{n} = {papers}\")\n",
    "\n",
    "\n",
    "# Choose our N and number of iterations\n",
    "N = 100\n",
    "iters = 10000\n",
    "\n",
    "# Check up to N=20 the possible X_N\n",
    "print_papers(20)"
   ]
  },
  {
   "cell_type": "code",
   "execution_count": 4,
   "id": "50f010ae-f8f3-487a-9aa6-fd5d6c2160b4",
   "metadata": {},
   "outputs": [
    {
     "name": "stdout",
     "output_type": "stream",
     "text": [
      "P(X_100=2)=[[0.0758]]\n"
     ]
    },
    {
     "data": {
      "image/png": "[encoded data removed]",
      "text/plain": [
       "<Figure size 640x480 with 1 Axes>"
      ]
     },
     "metadata": {},
     "output_type": "display_data"
    }
   ],
   "source": [
    "# Prints the probability of a particular X_N and plots frequency against X_N over 10000 games\n",
    "def prob_and_plot(N, x):\n",
    "\n",
    "    papers, freqs = counts(N)\n",
    "    if x in papers:\n",
    "        value = np.argwhere(papers==x)\n",
    "        prob = freqs[value] / iters\n",
    "        print(f\"P(X_{N}={x})={prob}\")\n",
    "    else:\n",
    "        print(f\"P(X_{N}={x})=0\")\n",
    "\n",
    "    plt.bar(papers, freqs)\n",
    "    plt.title(f\"Distribution of final pieces of paper for N={N}\")\n",
    "    plt.xlabel(\"Possible final pieces of paper\")\n",
    "    plt.ylabel(\"Frequency\")\n",
    "\n",
    "    plt.show()\n",
    "\n",
    "\n",
    "# Produce plot and probability for x\n",
    "prob_and_plot(N, 2)"
   ]
  },
  {
   "cell_type": "code",
   "execution_count": null,
   "id": "afaf47cb-1c74-4535-871e-1b9214a85b9e",
   "metadata": {},
   "outputs": [],
   "source": []
  }
 ],
 "metadata": {
  "kernelspec": {
   "display_name": "Python 3 (ipykernel)",
   "language": "python",
   "name": "python3"
  },
  "language_info": {
   "codemirror_mode": {
    "name": "ipython",
    "version": 3
   },
   "file_extension": ".py",
   "mimetype": "text/x-python",
   "name": "python",
   "nbconvert_exporter": "python",
   "pygments_lexer": "ipython3",
   "version": "3.9.13"
  }
 },
 "nbformat": 4,
 "nbformat_minor": 5
}
